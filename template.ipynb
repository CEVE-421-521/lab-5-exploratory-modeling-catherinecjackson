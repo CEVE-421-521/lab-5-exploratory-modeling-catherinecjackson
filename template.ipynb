{
  "cells": [
    {
      "cell_type": "raw",
      "metadata": {},
      "source": [
        "---\n",
        "title: 'Lab 5: Sea-Level Rise'\n",
        "author: <Your Name (NetID)>\n",
        "date: '2024-02-16'\n",
        "format:\n",
        "  html: default\n",
        "  pdf:\n",
        "    documentclass: article\n",
        "    fontsize: 11pt\n",
        "    geometry:\n",
        "      - margin=1in\n",
        "    number-sections: true\n",
        "    code-line-numbers: true\n",
        "date-format: 'ddd., MMM. D'\n",
        "bibliography: references.bib\n",
        "---"
      ],
      "id": "d2aa84a7"
    },
    {
      "cell_type": "markdown",
      "metadata": {},
      "source": [
        "# Setup\n",
        "\n",
        "## Load packages\n"
      ],
      "id": "bfe92097"
    },
    {
      "cell_type": "code",
      "metadata": {},
      "source": [
        "using CSV\n",
        "using DataFrames\n",
        "using DataFramesMeta\n",
        "using Distributions\n",
        "using Plots\n",
        "using StatsPlots\n",
        "using Unitful\n",
        "\n",
        "Plots.default(; margin=5Plots.mm)"
      ],
      "id": "0e9de8a8",
      "execution_count": null,
      "outputs": []
    },
    {
      "cell_type": "markdown",
      "metadata": {},
      "source": [
        "## Local package\n"
      ],
      "id": "9fefcd8e"
    },
    {
      "cell_type": "code",
      "metadata": {},
      "source": [
        "using Revise\n",
        "using HouseElevation"
      ],
      "id": "ef2f41d1",
      "execution_count": null,
      "outputs": []
    },
    {
      "cell_type": "markdown",
      "metadata": {},
      "source": [
        "# Build the House Object\n",
        "\n",
        "The code below helps us build an object to hold important parameters, including the house's description, occupancy, and source.  We also include the area of the house, the height above the gauge, and the value of the house.  We then use the House() constructor to build the house object.\n"
      ],
      "id": "006cd97e"
    },
    {
      "cell_type": "code",
      "metadata": {},
      "source": [
        "haz_fl_dept = CSV.read(\"data/haz_fl_dept.csv\", DataFrame)"
      ],
      "id": "e6c19726",
      "execution_count": null,
      "outputs": []
    },
    {
      "cell_type": "code",
      "metadata": {},
      "source": [
        "#| output: false\n",
        "house = let\n",
        "    haz_fl_dept = CSV.read(\"data/haz_fl_dept.csv\", DataFrame) \n",
        "    desc = \"two story, no basement, Structure\"\n",
        "    occ = \"RES1\"\n",
        "    src = \"USACE - Galveston\"\n",
        "    row = @rsubset(haz_fl_dept, :Description == desc, :Occupancy == occ, :Source == src)[1, :] \n",
        "    area = 881u\"ft^2\"\n",
        "    height_above_gauge = 4*u\"ft\" # the House() constructor could not input a float, so I had to round 4.3 down to 4 so that it would be an int type instead\n",
        "    value_usd = 194_456\n",
        "    House(\n",
        "        row;\n",
        "        area=area,\n",
        "        height_above_gauge=height_above_gauge,\n",
        "        value_usd=value_usd,\n",
        "    )\n",
        "end"
      ],
      "id": "488f13e3",
      "execution_count": null,
      "outputs": []
    },
    {
      "cell_type": "markdown",
      "metadata": {},
      "source": [
        "The code below creates the depth-damages function used to determine how much cost can be expected at a given flood depth.\n"
      ],
      "id": "c39bfd87"
    },
    {
      "cell_type": "code",
      "metadata": {},
      "source": [
        "let\n",
        "    depths = uconvert.(u\"ft\", (-7.0u\"ft\"):(1.0u\"inch\"):(30.0u\"ft\"))\n",
        "    damages = house.ddf.(depths) .* house.value_usd ./ 1000\n",
        "    scatter(\n",
        "        depths,\n",
        "        damages;\n",
        "        xlabel=\"Flood Depth\",\n",
        "        ylabel=\"Damage (Thousand USD)\",\n",
        "        label=\"$(house.description)\\n($(house.source))\",\n",
        "        legend=:bottomright,\n",
        "        size=(800, 400),\n",
        "        yformatter=:plain, # prevents scientific notation\n",
        "    )\n",
        "end"
      ],
      "id": "96a81aa1",
      "execution_count": null,
      "outputs": []
    },
    {
      "cell_type": "markdown",
      "metadata": {},
      "source": [
        "The code below establishes the cost of raising a house to a given elevation.  This is important as it will help us determine the cost of raising the house to a given elevation.\n"
      ],
      "id": "e4329ce1"
    },
    {
      "cell_type": "code",
      "metadata": {},
      "source": [
        "let\n",
        "    elevations = 0u\"ft\":0.25u\"ft\":14u\"ft\"\n",
        "    costs = [elevation_cost(house, eᵢ) for eᵢ in elevations]\n",
        "    scatter(\n",
        "        elevations,\n",
        "        costs ./ 1_000;\n",
        "        xlabel=\"Elevation\",\n",
        "        ylabel=\"Cost (Thousand USD)\",\n",
        "        label=\"$(house.description)\\n($(house.source))\",\n",
        "        legend=:bottomright,\n",
        "        size=(800, 400),\n",
        "        yformatter=:plain, # prevents scientific notation\n",
        "    )\n",
        "end"
      ],
      "id": "27f464d5",
      "execution_count": null,
      "outputs": []
    },
    {
      "cell_type": "markdown",
      "metadata": {},
      "source": [
        "# Read in SLR\n"
      ],
      "id": "7b7cdf4e"
    },
    {
      "cell_type": "code",
      "metadata": {},
      "source": [
        "#| output: false\n",
        "slr_scenarios = let\n",
        "    df = CSV.read(\"data/slr_oddo.csv\", DataFrame)\n",
        "    [Oddo17SLR(a, b, c, tstar, cstar) for (a, b, c, tstar, cstar) in eachrow(df)]\n",
        "end\n",
        "println(\"There are $(length(slr_scenarios)) parameter sets\");"
      ],
      "id": "2256ce07",
      "execution_count": null,
      "outputs": []
    },
    {
      "cell_type": "markdown",
      "metadata": {},
      "source": [
        "We can plot these scenarios to get a sense of the range of sea-level rise we might expect.\n"
      ],
      "id": "9a772b3f"
    },
    {
      "cell_type": "code",
      "metadata": {},
      "source": [
        "let\n",
        "    years = 1900:2150\n",
        "    p = plot(;\n",
        "        xlabel=\"Year\",\n",
        "        ylabel=\"Mean sea-level (ft)\\nwith respect to the year 2000\",\n",
        "        label=\"Oddo et al. (2017)\",\n",
        "        legend=false\n",
        "    )\n",
        "    for s in rand(slr_scenarios, 250)\n",
        "        plot!(p, years, s.(years); color=:lightgrey, alpha=0.5, linewidth=0.5)\n",
        "    end\n",
        "    p\n",
        "end"
      ],
      "id": "52fdeff4",
      "execution_count": null,
      "outputs": []
    },
    {
      "cell_type": "markdown",
      "metadata": {},
      "source": [
        "# Draw Samples from Storm Surge and Discount rate\n",
        "\n",
        "We can draw samples from the storm surge and discount rate distributions to get a sense of the range of values we might expect.\n"
      ],
      "id": "5acc971b"
    },
    {
      "cell_type": "code",
      "metadata": {},
      "source": [
        "function draw_surge_distribution()\n",
        "    μ = rand(Normal(5, 1))\n",
        "    σ = rand(Exponential(1.5))\n",
        "    ξ = rand(Normal(0.1, 0.05))\n",
        "    GeneralizedExtremeValue(μ, σ, ξ)\n",
        "end"
      ],
      "id": "756d7349",
      "execution_count": null,
      "outputs": []
    },
    {
      "cell_type": "markdown",
      "metadata": {},
      "source": [
        "We can then call this function many times to get many different distributions for the storm surge.\n",
        "For example,\n"
      ],
      "id": "989cf075"
    },
    {
      "cell_type": "code",
      "metadata": {},
      "source": [
        "[draw_surge_distribution() for _ in 1:1000]"
      ],
      "id": "2fb96b7c",
      "execution_count": null,
      "outputs": []
    },
    {
      "cell_type": "markdown",
      "metadata": {},
      "source": [
        "The code below establishes a function that makes this random draw for us.  This will be called later as we run the different combinations.\n"
      ],
      "id": "2bb69f93"
    },
    {
      "cell_type": "code",
      "metadata": {},
      "source": [
        "#| output: false\n",
        "function draw_discount_rate()\n",
        "    draw = rand(Normal(0.04, 0.02))\n",
        "    if draw < 0\n",
        "        return 0.001\n",
        "    else\n",
        "        return draw\n",
        "    end\n",
        "end"
      ],
      "id": "e1d7dbe5",
      "execution_count": null,
      "outputs": []
    },
    {
      "cell_type": "markdown",
      "metadata": {},
      "source": [
        "# Run Simulations\n",
        "\n",
        "## One Simulation\n",
        "\n",
        "The code below demonstrates, for only one combination, how we can run the simultion on given SOW, model, and action.\n"
      ],
      "id": "191d0e87"
    },
    {
      "cell_type": "code",
      "metadata": {},
      "source": [
        "p = ModelParams(\n",
        "    house=house,\n",
        "    years=2024:2083\n",
        ")\n",
        "\n",
        "sow = SOW(\n",
        "    rand(slr_scenarios),\n",
        "    draw_surge_distribution(),\n",
        "    draw_discount_rate()\n",
        ")\n",
        "\n",
        "a = Action(3.0u\"ft\")\n",
        "\n",
        "res = run_sim(a, sow, p)"
      ],
      "id": "241d1ed4",
      "execution_count": null,
      "outputs": []
    },
    {
      "cell_type": "markdown",
      "metadata": {},
      "source": [
        "The code below shows a very early analysis of these results.  The simulation is run 100 times on different combinations, and the NPV is plotted.  The 25th, 50th, and 75th quantiles are also plotted.  This is a very preliminary analysis, but it is interesting to see the range of NPVs that we might expect.\n"
      ],
      "id": "589b771d"
    },
    {
      "cell_type": "code",
      "metadata": {},
      "source": [
        "restrack=[];\n",
        "itrack = [];\n",
        "for i = 1:100\n",
        "    sow = SOW(\n",
        "        rand(slr_scenarios),\n",
        "        draw_surge_distribution(),\n",
        "        draw_discount_rate()\n",
        "    )\n",
        "    res = run_sim(a, sow, p)\n",
        "    push!(restrack, res)\n",
        "    push!(itrack, i)\n",
        "end\n",
        "\n",
        "q25 = quantile(restrack, 0.25)\n",
        "q75 = quantile(restrack, 0.75)\n",
        "q50 = quantile(restrack, 0.50)\n",
        "# plot restrack and quantiles\n",
        "plot(itrack, restrack, label=\"Simulated Results\", xlabel=\"Iteration\", ylabel=\"Cost (USD)\", legend=:bottomright)\n",
        "hline!([q25], label=\"25th Quantile\", color=:red)\n",
        "hline!([q50], label=\"50th Quantile\", color=:black)\n",
        "hline!([q75], label=\"75th Quantile\", color=:red)\n",
        "annotate!(25, q50-100000, text(\"Mean = $q50\", :left, 10, :black))\n",
        "plot!(title=\"Simulated Results\")\n",
        "# shade in the vlaues of y between q25 and q75"
      ],
      "id": "385f8c41",
      "execution_count": null,
      "outputs": []
    },
    {
      "cell_type": "markdown",
      "metadata": {},
      "source": [
        "## Multiple Simulations\n",
        "\n",
        "Below, I create a vector of possible action choices (e.g. house elevations).  This allows me to randomly sample from the actions like I am randomly selecting from the other SOWs.\n"
      ],
      "id": "8af5fa71"
    },
    {
      "cell_type": "code",
      "metadata": {},
      "source": [
        "action_dist = [0, 0.25, 0.5, 0.75, 1.0, 1.5, 2.0, 2.5, 3.0, 3.5, 4.0, 4.5, 5.0, 5.5, 6.0, 6.5, 7.0, 7.5, 8.0, 8.5, 9.0, 9.5, 10.0, 10.5, 11.0, 11.5, 12.0, 12.5]\n",
        "sows = [SOW(rand(slr_scenarios), draw_surge_distribution(), draw_discount_rate()) for _ in 1:500] # for 10 SOWs\n",
        "actions = [Action(rand(action_dist)*u\"ft\") for _ in 1:500] # these are all the same\n",
        "results = [run_sim(a, s, p) for (a, s) in zip(actions, sows)]"
      ],
      "id": "0737c299",
      "execution_count": null,
      "outputs": []
    },
    {
      "cell_type": "markdown",
      "metadata": {},
      "source": [
        "The code below creates a dataframe with the results of the simulation.  This will allow us to analyze the results in a more organized way.\n"
      ],
      "id": "2a4b9830"
    },
    {
      "cell_type": "code",
      "metadata": {},
      "source": [
        "df = DataFrame(\n",
        "    npv=results,\n",
        "    Δh_ft=[a.Δh_ft for a in actions],\n",
        "    slr_a=[s.slr.a for s in sows],\n",
        "    slr_b=[s.slr.b for s in sows],\n",
        "    slr_c=[s.slr.c for s in sows],\n",
        "    slr_tstar=[s.slr.tstar for s in sows],\n",
        "    slr_cstar=[s.slr.cstar for s in sows],\n",
        "    surge_μ=[s.surge_dist.μ for s in sows],\n",
        "    surge_σ=[s.surge_dist.σ for s in sows],\n",
        "    surge_ξ=[s.surge_dist.ξ for s in sows],\n",
        "    discount_rate=[s.discount_rate for s in sows],\n",
        ")"
      ],
      "id": "45a9fedc",
      "execution_count": null,
      "outputs": []
    },
    {
      "cell_type": "markdown",
      "metadata": {},
      "source": [
        "# Analysis\n",
        "\n",
        "Now that we have our dataframe with our different SOWs and action combinations, and their associated NPVs, we can analyze both what the best NPV scenarios are, and how the different variables impacted our results.\n",
        "\n",
        "First, we can use the code below to sort our dataframe by NPV and find the best 10 scenarios.\n"
      ],
      "id": "f1738597"
    },
    {
      "cell_type": "code",
      "metadata": {},
      "source": [
        "df = sort(df, :npv)\n",
        "best10df = last(df,10)"
      ],
      "id": "c844fa10",
      "execution_count": null,
      "outputs": []
    },
    {
      "cell_type": "markdown",
      "metadata": {},
      "source": [
        "Based on this sorted dataframe, we can see that, within our 500 combinations, the lowest NPV is -93,801.  The other top 10 scenarios are similar.  However, it is interesting to note that there is still sufficient variability in the other variables that produced the similar Top 10 scenarios.\n",
        "\n",
        "For example, the discount rate for these top 10 ranges between 0.0049 and 0.0807. The plots below show the how the different parameters vary between these 10 scenarios.\n"
      ],
      "id": "49e87f45"
    },
    {
      "cell_type": "code",
      "metadata": {},
      "source": [
        "## PLOT THE STORM SURGE\n",
        "\n",
        "plot()\n",
        "for i = 1:10\n",
        "    surge_dist = GeneralizedExtremeValue(best10df.surge_μ[i], best10df.surge_σ[i], best10df.surge_ξ[i])\n",
        "    global plotdist = plot!(surge_dist; title = \"Surge from Top 10\", xlims=(2,7), ylims=(0,15))\n",
        "end\n",
        "display(plotdist)\n",
        "\n",
        "## PLOT THE DISCOUNT RATE\n",
        "\n",
        "plotdiscount = plot()\n",
        "discount_rates = best10df.discount_rate  \n",
        "x_values = [1,2,3,4,5,6,7,8,9,10]  \n",
        "plotdiscount = scatter(x_values, discount_rates; title = \n",
        "    \"Discount Rate from Top 10\", xlabel=\"Scenario\", ylabel=\"Discount Rate\", leg=false, ylims=(0,0.15))\n",
        "\n",
        "## PLOT THE HEIGHT \n",
        "\n",
        "plotheight = plot() \n",
        "heights = best10df.Δh_ft\n",
        "x_values = [1,2,3,4,5,6,7,8,9,10]\n",
        "plotheight = scatter(x_values, heights; title = \"Height from \n",
        "    Top 10\", xlabel=\"Scenario\", ylabel=\"Height (ft)\", leg=false, ylims=(0,15))\n",
        "\n",
        "## COMBINED Plots\n",
        "\n",
        "plotend = plot(plotheight, plotdist, plotdiscount, layout=(2,2))"
      ],
      "id": "cfbaf291",
      "execution_count": null,
      "outputs": []
    },
    {
      "cell_type": "markdown",
      "metadata": {},
      "source": [
        "The results provided in these very preliminary graphs are interesting.  The height, though there is variation, seems concentrated around 5 within our top scenarios.  This seems, at first glance, logical as it represents a relatively high elevation but does not elevate enough to be incredibly expensive in terms of original construction.\n",
        "\n",
        "The discount rate has a large range from 0.0049 to 0.0807.  The plots below show the huge difference caused by the changes in discount rate.  Notice that, for the scenario in which the discount rate is 0.08, money is almost worthless by the year 2060 and would not be considered. \n"
      ],
      "id": "427334b8"
    },
    {
      "cell_type": "code",
      "metadata": {},
      "source": [
        "x = collect(2024:2083)  \n",
        "y1 = 1 ./ ((1 + 0.0049) .^ (x .- 2023))  \n",
        "y2 = 1 ./ ((1 + 0.0807) .^ (x .- 2023)) \n",
        "plot(x, y1, label=\"Discount Rate = 0.0049\", xlabel=\"Year\", \n",
        "    ylabel=\"Discounted Value\", title=\"Discount Rate Impact\", legend=:bottomright)\n",
        "plot!(x, y2, label=\"Discount Rate = 0.0807\")"
      ],
      "id": "68bc95bf",
      "execution_count": null,
      "outputs": []
    },
    {
      "cell_type": "markdown",
      "metadata": {},
      "source": [
        "It is clear, then, that discount rates have a huge impact on the NPV of the project.  With a higher discount rate, we might only consider the near immediate future; hypothetically, if this were extreme, people might want to avoid raising their homes at all.  This allows them to not spend money in the near future, and they do not care about the risk of flood damages later because the money is not worth as much then.\n",
        "\n",
        "This is a very interesting phenomena, then, that the discount rate is so important in determining the \"worth\" or \"reward\" of our actions but the top scenarios have such a large range.\n",
        "\n",
        "The surge also shows an interesting behavior.  I have copied the surge plot here. There is a large range in the location parameter going from 3.02 to 6.0.  However, these storm surge values, though there is a range, are relatively low.  This is completely expected as lower flood levels mean less potential for damages.  It is interesting as two of the storm surges show a behavior in which they almost look like a spike.  This means that the storm surge is very likely to be at a certain level and unlikely to fall anywhere else.  In both cases, the expected and very likely storm surge is just below the house elevation, which would mean that the house would not be flooded but only the absolutely necessary construction was done.\n"
      ],
      "id": "c3450aca"
    },
    {
      "cell_type": "code",
      "metadata": {},
      "source": [
        "plot()\n",
        "for i = 1:10\n",
        "    surge_dist = GeneralizedExtremeValue(best10df.surge_μ[i], best10df.surge_σ[i], best10df.surge_ξ[i])\n",
        "    global plotdist = plot!(surge_dist; title = \"Surge from Top 10\", xlims=(2,7), ylims=(0,15))\n",
        "end\n",
        "display(plotdist)"
      ],
      "id": "8fc50b58",
      "execution_count": null,
      "outputs": []
    },
    {
      "cell_type": "markdown",
      "metadata": {},
      "source": [
        "Note that, as our dataframe stores the variables which determine sea level rise, I did not plot those specifically.  However, it is clear that sea-level-rise is similarly important in determining these damages.\n",
        "\n",
        "In terms of where we get the best results, it is difficult to identify any singular nswer in that performance within these different categories is inter-dependent.  For example, if the height is just above a very concentrated storm surge distribution, we benefit from just raising the house to reap the benefits without paying more than we needed to.  Discount rates strongly impact whether we take action now or risk it later.  Sea-level rise is similarly important as it shifts our distributions upwards, producing more risk every year.\n",
        "\n",
        "For this reason, (in my opinion) to say where we get the best results, we would need to consider all of these factors together, an artifact of the complexity of these variables, their uncertainties, and their interdependencies.\n",
        "\n",
        "I would make a similar argument for the worst 10 results.  I have plotted a dataframe with the worst 10 below.  In this particular run, we see the NPV ranges from 13,680,000 to 2,387,000.  \n"
      ],
      "id": "512f2e81"
    },
    {
      "cell_type": "code",
      "metadata": {},
      "source": [
        "df = sort(df, :npv)\n",
        "worst10df = first(df,10)"
      ],
      "id": "ec9153fa",
      "execution_count": null,
      "outputs": []
    },
    {
      "cell_type": "markdown",
      "metadata": {},
      "source": [
        "Interestingly, we see individual parameters that are relatively similar to parameters in our best scenarios.  The heights can range around 5, the location parameter seems to range from 3 to 7, and the discount rate showss great variation (though this might be slightly lower).  Clearly parameters in isolation cannot produce either a good or a bad scenario.  It is the specific combinations that determine whether we are rewarded for our actions.\n",
        "\n",
        "As for the computing power, I would try to run more scenarios.  Given my personal conclusion that it is the combinations of parameters, not the parameters themselves, which determine the utility of a choice, it is essential to observe as many combinations as possible.  I was limited, due to my own computer, to only 500 combinations.  With uncertainties in many of the inputs, many runs are required.\n",
        "\n",
        "Finally, regarding the implications of these results for decision making, I think this lab is a great example of exploratory modeling.   It is not completely deterministic in the sense that there is no right answer.  There are different correct answers dependent on the situation, but understanding these possibilities is useful and gives insight that allows us to make the best choice we can.\n",
        "\n",
        "# Other graphs\n",
        "\n",
        "I have included other exploratory plots and figures I made below in case they are of interest!\n"
      ],
      "id": "9b0b9b2b"
    },
    {
      "cell_type": "code",
      "metadata": {},
      "source": [
        "# plot df Δh_ft vs df npv\n",
        "scatter(df.Δh_ft, df.npv, xlabel=\"Δh (ft)\", ylabel=\"NPV (USD)\", legend=false)"
      ],
      "id": "0e7e2f7d",
      "execution_count": null,
      "outputs": []
    },
    {
      "cell_type": "code",
      "metadata": {},
      "source": [
        "surge_dist_2 = GeneralizedExtremeValue(4, 1.5, 0.1)\n",
        "action_dist = [0, 0.25, 0.5, 0.75, 1.0, 1.5, 2.0, 2.5, 3.0, 3.5, 4.0, 4.5, 5.0, 5.5, 6.0, 6.5, 7.0, 7.5, 8.0, 8.5, 9.0, 9.5, 10.0, 10.5, 11.0, 11.5, 12.0, 12.5]\n",
        "sows = [SOW(rand(slr_scenarios), surge_dist_2, draw_discount_rate()) for _ in 1:500] # for 10 SOWs\n",
        "actions = [Action(rand(action_dist)*u\"ft\") for _ in 1:500] # these are all the same\n",
        "results = [run_sim(a, s, p) for (a, s) in zip(actions, sows)]"
      ],
      "id": "3abdbe70",
      "execution_count": null,
      "outputs": []
    },
    {
      "cell_type": "code",
      "metadata": {},
      "source": [
        "df = DataFrame(\n",
        "    npv=results,\n",
        "    Δh_ft=[a.Δh_ft for a in actions],\n",
        "    slr_a=[s.slr.a for s in sows],\n",
        "    slr_b=[s.slr.b for s in sows],\n",
        "    slr_c=[s.slr.c for s in sows],\n",
        "    slr_tstar=[s.slr.tstar for s in sows],\n",
        "    slr_cstar=[s.slr.cstar for s in sows],\n",
        "    surge_μ=[s.surge_dist.μ for s in sows],\n",
        "    surge_σ=[s.surge_dist.σ for s in sows],\n",
        "    surge_ξ=[s.surge_dist.ξ for s in sows],\n",
        "    discount_rate=[s.discount_rate for s in sows],\n",
        ")"
      ],
      "id": "9bad4bc9",
      "execution_count": null,
      "outputs": []
    },
    {
      "cell_type": "code",
      "metadata": {},
      "source": [
        "# plot df Δh_ft vs df npv\n",
        "\n",
        "scat2 = scatter(df.Δh_ft, df.npv, xlabel=\"Δh (ft)\", ylabel=\"NPV (USD)\", legend=false)\n",
        "# plot the distribution surge_dist_2\n",
        "plot2 = plot(surge_dist_2; label=\"Surge Distribution\", color=:red, xlims=(-5,25), ylims=(0,0.3))\n",
        "subplot2 = plot(scat2, plot2, layout=(1, 2))"
      ],
      "id": "920bf937",
      "execution_count": null,
      "outputs": []
    },
    {
      "cell_type": "code",
      "metadata": {},
      "source": [
        "surge_dist_3 = GeneralizedExtremeValue(7, 1.5, 0.1)\n",
        "action_dist = [0, 0.25, 0.5, 0.75, 1.0, 1.5, 2.0, 2.5, 3.0, 3.5, 4.0, 4.5, 5.0, 5.5, 6.0, 6.5, 7.0, 7.5, 8.0, 8.5, 9.0, 9.5, 10.0, 10.5, 11.0, 11.5, 12.0, 12.5]\n",
        "sows = [SOW(rand(slr_scenarios), surge_dist_3, draw_discount_rate()) for _ in 1:500] # for 10 SOWs\n",
        "actions = [Action(rand(action_dist)*u\"ft\") for _ in 1:500] # these are all the same\n",
        "results = [run_sim(a, s, p) for (a, s) in zip(actions, sows)]"
      ],
      "id": "10424203",
      "execution_count": null,
      "outputs": []
    },
    {
      "cell_type": "code",
      "metadata": {},
      "source": [
        "df = DataFrame(\n",
        "    npv=results,\n",
        "    Δh_ft=[a.Δh_ft for a in actions],\n",
        "    slr_a=[s.slr.a for s in sows],\n",
        "    slr_b=[s.slr.b for s in sows],\n",
        "    slr_c=[s.slr.c for s in sows],\n",
        "    slr_tstar=[s.slr.tstar for s in sows],\n",
        "    slr_cstar=[s.slr.cstar for s in sows],\n",
        "    surge_μ=[s.surge_dist.μ for s in sows],\n",
        "    surge_σ=[s.surge_dist.σ for s in sows],\n",
        "    surge_ξ=[s.surge_dist.ξ for s in sows],\n",
        "    discount_rate=[s.discount_rate for s in sows],\n",
        ")"
      ],
      "id": "a41ab699",
      "execution_count": null,
      "outputs": []
    },
    {
      "cell_type": "code",
      "metadata": {},
      "source": [
        "# plot df Δh_ft vs df npv\n",
        "\n",
        "scat3 = scatter(df.Δh_ft, df.npv, xlabel=\"Δh (ft)\", ylabel=\"NPV (USD)\", legend=false)\n",
        "# plot the distribution surge_dist_2\n",
        "plot3 = plot(surge_dist_3; label=\"Surge Distribution\", color=:red, xlims=(-5,25), ylims=(0,0.3))\n",
        "subplot3 = plot(scat3, plot3, layout=(1, 2))"
      ],
      "id": "5b58a8ec",
      "execution_count": null,
      "outputs": []
    },
    {
      "cell_type": "code",
      "metadata": {},
      "source": [
        "surge_dist_4 = GeneralizedExtremeValue(15, 1.5, 0.1)\n",
        "action_dist = [0, 0.25, 0.5, 0.75, 1.0, 1.5, 2.0, 2.5, 3.0, 3.5, 4.0, 4.5, 5.0, 5.5, 6.0, 6.5, 7.0, 7.5, 8.0, 8.5, 9.0, 9.5, 10.0, 10.5, 11.0, 11.5, 12.0, 12.5]\n",
        "sows = [SOW(rand(slr_scenarios), surge_dist_3, draw_discount_rate()) for _ in 1:500] # for 10 SOWs\n",
        "actions = [Action(rand(action_dist)*u\"ft\") for _ in 1:500] # these are all the same\n",
        "results = [run_sim(a, s, p) for (a, s) in zip(actions, sows)]"
      ],
      "id": "c243840c",
      "execution_count": null,
      "outputs": []
    },
    {
      "cell_type": "code",
      "metadata": {},
      "source": [
        "df = DataFrame(\n",
        "    npv=results,\n",
        "    Δh_ft=[a.Δh_ft for a in actions],\n",
        "    slr_a=[s.slr.a for s in sows],\n",
        "    slr_b=[s.slr.b for s in sows],\n",
        "    slr_c=[s.slr.c for s in sows],\n",
        "    slr_tstar=[s.slr.tstar for s in sows],\n",
        "    slr_cstar=[s.slr.cstar for s in sows],\n",
        "    surge_μ=[s.surge_dist.μ for s in sows],\n",
        "    surge_σ=[s.surge_dist.σ for s in sows],\n",
        "    surge_ξ=[s.surge_dist.ξ for s in sows],\n",
        "    discount_rate=[s.discount_rate for s in sows],\n",
        ")"
      ],
      "id": "05a5cadb",
      "execution_count": null,
      "outputs": []
    },
    {
      "cell_type": "code",
      "metadata": {},
      "source": [
        "# plot df Δh_ft vs df npv\n",
        "\n",
        "scat4 = scatter(df.Δh_ft, df.npv, xlabel=\"Δh (ft)\", ylabel=\"NPV (USD)\", legend=false)\n",
        "# plot the distribution surge_dist_2\n",
        "plot4 = plot(surge_dist_4; label=\"Surge Distribution\", color=:red, xlims=(-5,25), ylims=(0,0.3))\n",
        "subplot4 = plot(scat4, plot4, layout=(1, 2))"
      ],
      "id": "63d64ec6",
      "execution_count": null,
      "outputs": []
    },
    {
      "cell_type": "code",
      "metadata": {},
      "source": [
        "subplotend = plot(subplot2, subplot4, layout=(2,1))"
      ],
      "id": "8e740d67",
      "execution_count": null,
      "outputs": []
    }
  ],
  "metadata": {
    "kernelspec": {
      "name": "julia-1.10",
      "language": "julia",
      "display_name": "Julia 1.10.0"
    }
  },
  "nbformat": 4,
  "nbformat_minor": 5
}